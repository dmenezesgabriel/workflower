{
 "cells": [
  {
   "cell_type": "code",
   "execution_count": null,
   "metadata": {},
   "outputs": [],
   "source": [
    "print(\"This has runned after it's dependency\")"
   ]
  }
 ],
 "metadata": {
  "interpreter": {
   "hash": "eb515b21a94621ce68ae1cd487aa58718fda5bfd29bf032de762cf1dd98b1cad"
  },
  "kernelspec": {
   "display_name": "Python 3.10.0 64-bit ('venv': venv)",
   "language": "python",
   "name": "python3"
  },
  "language_info": {
   "name": "python",
   "version": "3.10.0"
  },
  "orig_nbformat": 4
 },
 "nbformat": 4,
 "nbformat_minor": 2
}
