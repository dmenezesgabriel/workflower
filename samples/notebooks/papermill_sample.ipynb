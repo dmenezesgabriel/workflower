{
 "cells": [
  {
   "cell_type": "code",
   "execution_count": 1,
   "id": "875a3399",
   "metadata": {
    "execution": {
     "iopub.execute_input": "2022-01-25T22:25:41.620239Z",
     "iopub.status.busy": "2022-01-25T22:25:41.620239Z",
     "iopub.status.idle": "2022-01-25T22:25:41.651545Z",
     "shell.execute_reply": "2022-01-25T22:25:41.651545Z"
    },
    "papermill": {
     "duration": 0.031306,
     "end_time": "2022-01-25T22:25:41.651545",
     "exception": false,
     "start_time": "2022-01-25T22:25:41.620239",
     "status": "completed"
    },
    "tags": []
   },
   "outputs": [
    {
     "name": "stdout",
     "output_type": "stream",
     "text": [
      "It worked!\n"
     ]
    }
   ],
   "source": [
    "print(\"It worked!\")"
   ]
  }
 ],
 "metadata": {
  "interpreter": {
   "hash": "eb515b21a94621ce68ae1cd487aa58718fda5bfd29bf032de762cf1dd98b1cad"
  },
  "kernelspec": {
   "display_name": "Python 3.10.0 64-bit ('venv': venv)",
   "language": "python",
   "name": "python3"
  },
  "language_info": {
   "codemirror_mode": {
    "name": "ipython",
    "version": 3
   },
   "file_extension": ".py",
   "mimetype": "text/x-python",
   "name": "python",
   "nbconvert_exporter": "python",
   "pygments_lexer": "ipython3",
   "version": "3.10.0"
  },
  "papermill": {
   "default_parameters": {},
   "duration": 2.069232,
   "end_time": "2022-01-25T22:25:41.879834",
   "environment_variables": {},
   "exception": null,
   "input_path": "C:\\Users\\gabri\\Documents\\repos\\workflower\\samples\\notebooks\\papermill_sample.ipynb",
   "output_path": "C:\\Users\\gabri\\Documents\\repos\\workflower\\samples\\notebooks\\papermill_sample.ipynb",
   "parameters": {},
   "start_time": "2022-01-25T22:25:39.810602",
   "version": "2.3.3"
  }
 },
 "nbformat": 4,
 "nbformat_minor": 5
}